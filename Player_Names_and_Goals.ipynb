{
 "cells": [
  {
   "cell_type": "code",
   "execution_count": null,
   "metadata": {},
   "outputs": [],
   "source": [
    "!pip install selenium"
   ]
  },
  {
   "cell_type": "code",
   "execution_count": 26,
   "metadata": {},
   "outputs": [],
   "source": [
    "from selenium import webdriver\n",
    "from selenium.webdriver.common.keys import Keys\n",
    "import pandas as pd\n",
    "\n",
    "driver = webdriver.Firefox()\n",
    "driver.get('https://www.premierleague.com/stats/top/players/goals?se=-1')  "
   ]
  },
  {
   "cell_type": "code",
   "execution_count": 27,
   "metadata": {},
   "outputs": [
    {
     "name": "stdout",
     "output_type": "stream",
     "text": [
      "<class 'list'>\n",
      "first_player rank <selenium.webdriver.firefox.webelement.FirefoxWebElement (session=\"e25514f5-bf86-4a55-9c57-fd673ef1c4af\", element=\"aa5048ae-8eb9-43d6-981c-f47f52b62808\")>\n",
      "first_player 1\n",
      "['1', '2', '3', '4', '5', '6', '7', '8', '9', '10', '11', '12', '13', '14', '14', '16', '17', '18', '19', '20']\n"
     ]
    }
   ],
   "source": [
    "player_rank = driver.find_elements_by_xpath('//td[@class=\"rank\"]')\n",
    "print(type(rank))\n",
    "print(\"first_player rank\", player_rank[0])\n",
    "print(\"first_player\", player_rank[0].text)\n",
    "player_rank_list = []\n",
    "for p in range(len(player_rank)):\n",
    "    player_rank_list.append(player_rank[p].text)\n",
    "print(player_rank_list) "
   ]
  },
  {
   "cell_type": "code",
   "execution_count": 28,
   "metadata": {},
   "outputs": [
    {
     "name": "stdout",
     "output_type": "stream",
     "text": [
      "['Alan Shearer', 'Wayne Rooney', 'Andrew Cole', 'Sergio Agüero', 'Frank Lampard', 'Thierry Henry', 'Harry Kane', 'Robbie Fowler', 'Jermain Defoe', 'Michael Owen', 'Les Ferdinand', 'Teddy Sheringham', 'Robin van Persie', 'Jimmy Floyd Hasselbaink', 'Jamie Vardy', 'Robbie Keane', 'Nicolas Anelka', 'Dwight Yorke', 'Steven Gerrard', 'Romelu Lukaku']\n"
     ]
    }
   ],
   "source": [
    "player_name = driver.find_elements_by_xpath('//a[@class=\"playerName\"]')\n",
    "player_name_list = []\n",
    "for s in range(len(player_name)):\n",
    "    player_name_list.append(player_name[s].text)   \n",
    "print(player_name_list)    "
   ]
  },
  {
   "cell_type": "code",
   "execution_count": 30,
   "metadata": {},
   "outputs": [
    {
     "name": "stdout",
     "output_type": "stream",
     "text": [
      "['England', 'England', 'England', 'Argentina', 'England', 'France', 'England', 'England', 'England', 'England', 'England', 'England', 'Netherlands', 'Netherlands', 'England', 'Ireland', 'France', 'Trinidad & Tobago', 'England', 'Belgium']\n"
     ]
    }
   ],
   "source": [
    "player_nationality = driver.find_elements_by_xpath('//span[@class=\"playerCountry\"]')\n",
    "player_nationality_list = []\n",
    "for s in range(len(player_nationality)):\n",
    "    player_nationality_list.append(player_nationality[s].text)  \n",
    "print(player_nationality_list)"
   ]
  },
  {
   "cell_type": "code",
   "execution_count": 31,
   "metadata": {},
   "outputs": [
    {
     "name": "stdout",
     "output_type": "stream",
     "text": [
      "['260', '208', '187', '184', '177', '175', '170', '163', '162', '150', '149', '146', '144', '127', '127', '126', '125', '123', '120', '118']\n"
     ]
    }
   ],
   "source": [
    "player_state = driver.find_elements_by_xpath('//td[@class=\"mainStat text-centre\"]')\n",
    "player_state_list = []\n",
    "for s in range(len(player_state)):\n",
    "    player_state_list.append(player_state[s].text)  \n",
    "print(player_state_list)"
   ]
  },
  {
   "cell_type": "code",
   "execution_count": 32,
   "metadata": {},
   "outputs": [],
   "source": [
    "player_tuple = list(zip(player_rank_list, player_name_list, player_nationality_list, player_state_list)) "
   ]
  },
  {
   "cell_type": "code",
   "execution_count": 46,
   "metadata": {},
   "outputs": [],
   "source": [
    "df = pd.DataFrame(player_tuple, columns=['Rank','Name','Nationality', 'State'])"
   ]
  },
  {
   "cell_type": "code",
   "execution_count": 47,
   "metadata": {},
   "outputs": [
    {
     "data": {
      "text/html": [
       "<div>\n",
       "<style scoped>\n",
       "    .dataframe tbody tr th:only-of-type {\n",
       "        vertical-align: middle;\n",
       "    }\n",
       "\n",
       "    .dataframe tbody tr th {\n",
       "        vertical-align: top;\n",
       "    }\n",
       "\n",
       "    .dataframe thead th {\n",
       "        text-align: right;\n",
       "    }\n",
       "</style>\n",
       "<table border=\"1\" class=\"dataframe\">\n",
       "  <thead>\n",
       "    <tr style=\"text-align: right;\">\n",
       "      <th></th>\n",
       "      <th>Rank</th>\n",
       "      <th>Name</th>\n",
       "      <th>Nationality</th>\n",
       "      <th>State</th>\n",
       "    </tr>\n",
       "  </thead>\n",
       "  <tbody>\n",
       "    <tr>\n",
       "      <th>0</th>\n",
       "      <td>1</td>\n",
       "      <td>Alan Shearer</td>\n",
       "      <td>England</td>\n",
       "      <td>260</td>\n",
       "    </tr>\n",
       "    <tr>\n",
       "      <th>1</th>\n",
       "      <td>2</td>\n",
       "      <td>Wayne Rooney</td>\n",
       "      <td>England</td>\n",
       "      <td>208</td>\n",
       "    </tr>\n",
       "    <tr>\n",
       "      <th>2</th>\n",
       "      <td>3</td>\n",
       "      <td>Andrew Cole</td>\n",
       "      <td>England</td>\n",
       "      <td>187</td>\n",
       "    </tr>\n",
       "    <tr>\n",
       "      <th>3</th>\n",
       "      <td>4</td>\n",
       "      <td>Sergio Agüero</td>\n",
       "      <td>Argentina</td>\n",
       "      <td>184</td>\n",
       "    </tr>\n",
       "    <tr>\n",
       "      <th>4</th>\n",
       "      <td>5</td>\n",
       "      <td>Frank Lampard</td>\n",
       "      <td>England</td>\n",
       "      <td>177</td>\n",
       "    </tr>\n",
       "    <tr>\n",
       "      <th>5</th>\n",
       "      <td>6</td>\n",
       "      <td>Thierry Henry</td>\n",
       "      <td>France</td>\n",
       "      <td>175</td>\n",
       "    </tr>\n",
       "    <tr>\n",
       "      <th>6</th>\n",
       "      <td>7</td>\n",
       "      <td>Harry Kane</td>\n",
       "      <td>England</td>\n",
       "      <td>170</td>\n",
       "    </tr>\n",
       "    <tr>\n",
       "      <th>7</th>\n",
       "      <td>8</td>\n",
       "      <td>Robbie Fowler</td>\n",
       "      <td>England</td>\n",
       "      <td>163</td>\n",
       "    </tr>\n",
       "    <tr>\n",
       "      <th>8</th>\n",
       "      <td>9</td>\n",
       "      <td>Jermain Defoe</td>\n",
       "      <td>England</td>\n",
       "      <td>162</td>\n",
       "    </tr>\n",
       "    <tr>\n",
       "      <th>9</th>\n",
       "      <td>10</td>\n",
       "      <td>Michael Owen</td>\n",
       "      <td>England</td>\n",
       "      <td>150</td>\n",
       "    </tr>\n",
       "    <tr>\n",
       "      <th>10</th>\n",
       "      <td>11</td>\n",
       "      <td>Les Ferdinand</td>\n",
       "      <td>England</td>\n",
       "      <td>149</td>\n",
       "    </tr>\n",
       "    <tr>\n",
       "      <th>11</th>\n",
       "      <td>12</td>\n",
       "      <td>Teddy Sheringham</td>\n",
       "      <td>England</td>\n",
       "      <td>146</td>\n",
       "    </tr>\n",
       "    <tr>\n",
       "      <th>12</th>\n",
       "      <td>13</td>\n",
       "      <td>Robin van Persie</td>\n",
       "      <td>Netherlands</td>\n",
       "      <td>144</td>\n",
       "    </tr>\n",
       "    <tr>\n",
       "      <th>13</th>\n",
       "      <td>14</td>\n",
       "      <td>Jimmy Floyd Hasselbaink</td>\n",
       "      <td>Netherlands</td>\n",
       "      <td>127</td>\n",
       "    </tr>\n",
       "    <tr>\n",
       "      <th>14</th>\n",
       "      <td>14</td>\n",
       "      <td>Jamie Vardy</td>\n",
       "      <td>England</td>\n",
       "      <td>127</td>\n",
       "    </tr>\n",
       "    <tr>\n",
       "      <th>15</th>\n",
       "      <td>16</td>\n",
       "      <td>Robbie Keane</td>\n",
       "      <td>Ireland</td>\n",
       "      <td>126</td>\n",
       "    </tr>\n",
       "    <tr>\n",
       "      <th>16</th>\n",
       "      <td>17</td>\n",
       "      <td>Nicolas Anelka</td>\n",
       "      <td>France</td>\n",
       "      <td>125</td>\n",
       "    </tr>\n",
       "    <tr>\n",
       "      <th>17</th>\n",
       "      <td>18</td>\n",
       "      <td>Dwight Yorke</td>\n",
       "      <td>Trinidad &amp; Tobago</td>\n",
       "      <td>123</td>\n",
       "    </tr>\n",
       "    <tr>\n",
       "      <th>18</th>\n",
       "      <td>19</td>\n",
       "      <td>Steven Gerrard</td>\n",
       "      <td>England</td>\n",
       "      <td>120</td>\n",
       "    </tr>\n",
       "    <tr>\n",
       "      <th>19</th>\n",
       "      <td>20</td>\n",
       "      <td>Romelu Lukaku</td>\n",
       "      <td>Belgium</td>\n",
       "      <td>118</td>\n",
       "    </tr>\n",
       "  </tbody>\n",
       "</table>\n",
       "</div>"
      ],
      "text/plain": [
       "   Rank                     Name        Nationality State\n",
       "0     1             Alan Shearer            England   260\n",
       "1     2             Wayne Rooney            England   208\n",
       "2     3              Andrew Cole            England   187\n",
       "3     4            Sergio Agüero          Argentina   184\n",
       "4     5            Frank Lampard            England   177\n",
       "5     6            Thierry Henry             France   175\n",
       "6     7               Harry Kane            England   170\n",
       "7     8            Robbie Fowler            England   163\n",
       "8     9            Jermain Defoe            England   162\n",
       "9    10             Michael Owen            England   150\n",
       "10   11            Les Ferdinand            England   149\n",
       "11   12         Teddy Sheringham            England   146\n",
       "12   13         Robin van Persie        Netherlands   144\n",
       "13   14  Jimmy Floyd Hasselbaink        Netherlands   127\n",
       "14   14              Jamie Vardy            England   127\n",
       "15   16             Robbie Keane            Ireland   126\n",
       "16   17           Nicolas Anelka             France   125\n",
       "17   18             Dwight Yorke  Trinidad & Tobago   123\n",
       "18   19           Steven Gerrard            England   120\n",
       "19   20            Romelu Lukaku            Belgium   118"
      ]
     },
     "execution_count": 47,
     "metadata": {},
     "output_type": "execute_result"
    }
   ],
   "source": [
    "df.head(len(player_rank_list))"
   ]
  },
  {
   "cell_type": "code",
   "execution_count": 48,
   "metadata": {},
   "outputs": [
    {
     "name": "stdout",
     "output_type": "stream",
     "text": [
      "<class 'pandas.core.frame.DataFrame'>\n",
      "RangeIndex: 20 entries, 0 to 19\n",
      "Data columns (total 4 columns):\n",
      " #   Column       Non-Null Count  Dtype \n",
      "---  ------       --------------  ----- \n",
      " 0   Rank         20 non-null     object\n",
      " 1   Name         20 non-null     object\n",
      " 2   Nationality  20 non-null     object\n",
      " 3   State        20 non-null     object\n",
      "dtypes: object(4)\n",
      "memory usage: 768.0+ bytes\n"
     ]
    }
   ],
   "source": [
    "df.info()"
   ]
  },
  {
   "cell_type": "code",
   "execution_count": 49,
   "metadata": {},
   "outputs": [],
   "source": [
    "df.to_csv(\"players_names_and_goals.csv\", header=True, index=False)"
   ]
  },
  {
   "cell_type": "code",
   "execution_count": 50,
   "metadata": {},
   "outputs": [
    {
     "data": {
      "text/html": [
       "<div>\n",
       "<style scoped>\n",
       "    .dataframe tbody tr th:only-of-type {\n",
       "        vertical-align: middle;\n",
       "    }\n",
       "\n",
       "    .dataframe tbody tr th {\n",
       "        vertical-align: top;\n",
       "    }\n",
       "\n",
       "    .dataframe thead th {\n",
       "        text-align: right;\n",
       "    }\n",
       "</style>\n",
       "<table border=\"1\" class=\"dataframe\">\n",
       "  <thead>\n",
       "    <tr style=\"text-align: right;\">\n",
       "      <th></th>\n",
       "      <th>Name</th>\n",
       "      <th>Height_cm</th>\n",
       "      <th>Appearances</th>\n",
       "      <th>Wins</th>\n",
       "      <th>Losses</th>\n",
       "      <th>Goals_per_match</th>\n",
       "      <th>Assists</th>\n",
       "      <th>Yellow_cards</th>\n",
       "      <th>Red_cards</th>\n",
       "    </tr>\n",
       "  </thead>\n",
       "  <tbody>\n",
       "    <tr>\n",
       "      <th>0</th>\n",
       "      <td>Michael Owen</td>\n",
       "      <td>173</td>\n",
       "      <td>326</td>\n",
       "      <td>142</td>\n",
       "      <td>95</td>\n",
       "      <td>0.46</td>\n",
       "      <td>31</td>\n",
       "      <td>10</td>\n",
       "      <td>1</td>\n",
       "    </tr>\n",
       "    <tr>\n",
       "      <th>1</th>\n",
       "      <td>Jermain Defoe</td>\n",
       "      <td>171</td>\n",
       "      <td>496</td>\n",
       "      <td>185</td>\n",
       "      <td>188</td>\n",
       "      <td>0.33</td>\n",
       "      <td>33</td>\n",
       "      <td>40</td>\n",
       "      <td>2</td>\n",
       "    </tr>\n",
       "    <tr>\n",
       "      <th>2</th>\n",
       "      <td>Harry Kane</td>\n",
       "      <td>188</td>\n",
       "      <td>245</td>\n",
       "      <td>136</td>\n",
       "      <td>57</td>\n",
       "      <td>0.68</td>\n",
       "      <td>34</td>\n",
       "      <td>27</td>\n",
       "      <td>0</td>\n",
       "    </tr>\n",
       "    <tr>\n",
       "      <th>3</th>\n",
       "      <td>Mohamed Salah</td>\n",
       "      <td>175</td>\n",
       "      <td>158</td>\n",
       "      <td>107</td>\n",
       "      <td>21</td>\n",
       "      <td>0.61</td>\n",
       "      <td>34</td>\n",
       "      <td>4</td>\n",
       "      <td>0</td>\n",
       "    </tr>\n",
       "    <tr>\n",
       "      <th>4</th>\n",
       "      <td>Romelu Lukaku</td>\n",
       "      <td>190</td>\n",
       "      <td>252</td>\n",
       "      <td>112</td>\n",
       "      <td>80</td>\n",
       "      <td>0.45</td>\n",
       "      <td>35</td>\n",
       "      <td>19</td>\n",
       "      <td>0</td>\n",
       "    </tr>\n",
       "  </tbody>\n",
       "</table>\n",
       "</div>"
      ],
      "text/plain": [
       "            Name  Height_cm  Appearances  Wins  Losses  Goals_per_match  \\\n",
       "0   Michael Owen        173          326   142      95             0.46   \n",
       "1  Jermain Defoe        171          496   185     188             0.33   \n",
       "2     Harry Kane        188          245   136      57             0.68   \n",
       "3  Mohamed Salah        175          158   107      21             0.61   \n",
       "4  Romelu Lukaku        190          252   112      80             0.45   \n",
       "\n",
       "   Assists  Yellow_cards  Red_cards  \n",
       "0       31            10          1  \n",
       "1       33            40          2  \n",
       "2       34            27          0  \n",
       "3       34             4          0  \n",
       "4       35            19          0  "
      ]
     },
     "execution_count": 50,
     "metadata": {},
     "output_type": "execute_result"
    }
   ],
   "source": [
    "df2 = pd.read_json(r\"players_stats.json\")\n",
    "df2.head()"
   ]
  },
  {
   "cell_type": "code",
   "execution_count": 51,
   "metadata": {},
   "outputs": [
    {
     "name": "stdout",
     "output_type": "stream",
     "text": [
      "<class 'pandas.core.frame.DataFrame'>\n",
      "RangeIndex: 21 entries, 0 to 20\n",
      "Data columns (total 9 columns):\n",
      " #   Column           Non-Null Count  Dtype  \n",
      "---  ------           --------------  -----  \n",
      " 0   Name             21 non-null     object \n",
      " 1   Height_cm        21 non-null     int64  \n",
      " 2   Appearances      21 non-null     int64  \n",
      " 3   Wins             21 non-null     int64  \n",
      " 4   Losses           21 non-null     int64  \n",
      " 5   Goals_per_match  21 non-null     float64\n",
      " 6   Assists          21 non-null     int64  \n",
      " 7   Yellow_cards     21 non-null     int64  \n",
      " 8   Red_cards        21 non-null     int64  \n",
      "dtypes: float64(1), int64(7), object(1)\n",
      "memory usage: 1.6+ KB\n"
     ]
    }
   ],
   "source": [
    "df2.info()"
   ]
  },
  {
   "cell_type": "code",
   "execution_count": 52,
   "metadata": {},
   "outputs": [],
   "source": [
    "df3 = pd.merge(df, df2, on=[\"Name\"])"
   ]
  },
  {
   "cell_type": "code",
   "execution_count": 53,
   "metadata": {},
   "outputs": [
    {
     "name": "stdout",
     "output_type": "stream",
     "text": [
      "<class 'pandas.core.frame.DataFrame'>\n",
      "Int64Index: 20 entries, 0 to 19\n",
      "Data columns (total 12 columns):\n",
      " #   Column           Non-Null Count  Dtype  \n",
      "---  ------           --------------  -----  \n",
      " 0   Rank             20 non-null     object \n",
      " 1   Name             20 non-null     object \n",
      " 2   Nationality      20 non-null     object \n",
      " 3   State            20 non-null     object \n",
      " 4   Height_cm        20 non-null     int64  \n",
      " 5   Appearances      20 non-null     int64  \n",
      " 6   Wins             20 non-null     int64  \n",
      " 7   Losses           20 non-null     int64  \n",
      " 8   Goals_per_match  20 non-null     float64\n",
      " 9   Assists          20 non-null     int64  \n",
      " 10  Yellow_cards     20 non-null     int64  \n",
      " 11  Red_cards        20 non-null     int64  \n",
      "dtypes: float64(1), int64(7), object(4)\n",
      "memory usage: 2.0+ KB\n"
     ]
    }
   ],
   "source": [
    "df3.info()"
   ]
  },
  {
   "cell_type": "code",
   "execution_count": 54,
   "metadata": {},
   "outputs": [
    {
     "data": {
      "text/html": [
       "<div>\n",
       "<style scoped>\n",
       "    .dataframe tbody tr th:only-of-type {\n",
       "        vertical-align: middle;\n",
       "    }\n",
       "\n",
       "    .dataframe tbody tr th {\n",
       "        vertical-align: top;\n",
       "    }\n",
       "\n",
       "    .dataframe thead th {\n",
       "        text-align: right;\n",
       "    }\n",
       "</style>\n",
       "<table border=\"1\" class=\"dataframe\">\n",
       "  <thead>\n",
       "    <tr style=\"text-align: right;\">\n",
       "      <th></th>\n",
       "      <th>Rank</th>\n",
       "      <th>Name</th>\n",
       "      <th>Nationality</th>\n",
       "      <th>State</th>\n",
       "      <th>Height_cm</th>\n",
       "      <th>Appearances</th>\n",
       "      <th>Wins</th>\n",
       "      <th>Losses</th>\n",
       "      <th>Goals_per_match</th>\n",
       "      <th>Assists</th>\n",
       "      <th>Yellow_cards</th>\n",
       "      <th>Red_cards</th>\n",
       "    </tr>\n",
       "  </thead>\n",
       "  <tbody>\n",
       "    <tr>\n",
       "      <th>0</th>\n",
       "      <td>1</td>\n",
       "      <td>Alan Shearer</td>\n",
       "      <td>England</td>\n",
       "      <td>260</td>\n",
       "      <td>183</td>\n",
       "      <td>441</td>\n",
       "      <td>203</td>\n",
       "      <td>129</td>\n",
       "      <td>0.59</td>\n",
       "      <td>64</td>\n",
       "      <td>41</td>\n",
       "      <td>2</td>\n",
       "    </tr>\n",
       "    <tr>\n",
       "      <th>1</th>\n",
       "      <td>2</td>\n",
       "      <td>Wayne Rooney</td>\n",
       "      <td>England</td>\n",
       "      <td>208</td>\n",
       "      <td>176</td>\n",
       "      <td>491</td>\n",
       "      <td>284</td>\n",
       "      <td>103</td>\n",
       "      <td>0.42</td>\n",
       "      <td>103</td>\n",
       "      <td>102</td>\n",
       "      <td>3</td>\n",
       "    </tr>\n",
       "    <tr>\n",
       "      <th>2</th>\n",
       "      <td>3</td>\n",
       "      <td>Andrew Cole</td>\n",
       "      <td>England</td>\n",
       "      <td>187</td>\n",
       "      <td>178</td>\n",
       "      <td>414</td>\n",
       "      <td>206</td>\n",
       "      <td>106</td>\n",
       "      <td>0.45</td>\n",
       "      <td>73</td>\n",
       "      <td>40</td>\n",
       "      <td>6</td>\n",
       "    </tr>\n",
       "    <tr>\n",
       "      <th>3</th>\n",
       "      <td>4</td>\n",
       "      <td>Sergio Agüero</td>\n",
       "      <td>Argentina</td>\n",
       "      <td>184</td>\n",
       "      <td>173</td>\n",
       "      <td>275</td>\n",
       "      <td>186</td>\n",
       "      <td>45</td>\n",
       "      <td>0.67</td>\n",
       "      <td>47</td>\n",
       "      <td>23</td>\n",
       "      <td>1</td>\n",
       "    </tr>\n",
       "    <tr>\n",
       "      <th>4</th>\n",
       "      <td>5</td>\n",
       "      <td>Frank Lampard</td>\n",
       "      <td>England</td>\n",
       "      <td>177</td>\n",
       "      <td>184</td>\n",
       "      <td>609</td>\n",
       "      <td>349</td>\n",
       "      <td>127</td>\n",
       "      <td>0.29</td>\n",
       "      <td>102</td>\n",
       "      <td>59</td>\n",
       "      <td>2</td>\n",
       "    </tr>\n",
       "  </tbody>\n",
       "</table>\n",
       "</div>"
      ],
      "text/plain": [
       "  Rank           Name Nationality State  Height_cm  Appearances  Wins  Losses  \\\n",
       "0    1   Alan Shearer     England   260        183          441   203     129   \n",
       "1    2   Wayne Rooney     England   208        176          491   284     103   \n",
       "2    3    Andrew Cole     England   187        178          414   206     106   \n",
       "3    4  Sergio Agüero   Argentina   184        173          275   186      45   \n",
       "4    5  Frank Lampard     England   177        184          609   349     127   \n",
       "\n",
       "   Goals_per_match  Assists  Yellow_cards  Red_cards  \n",
       "0             0.59       64            41          2  \n",
       "1             0.42      103           102          3  \n",
       "2             0.45       73            40          6  \n",
       "3             0.67       47            23          1  \n",
       "4             0.29      102            59          2  "
      ]
     },
     "execution_count": 54,
     "metadata": {},
     "output_type": "execute_result"
    }
   ],
   "source": [
    "df3.head()"
   ]
  },
  {
   "cell_type": "code",
   "execution_count": 55,
   "metadata": {},
   "outputs": [],
   "source": [
    "df2.to_csv(\"players_stats.csv\", index=False) "
   ]
  },
  {
   "cell_type": "code",
   "execution_count": 56,
   "metadata": {},
   "outputs": [],
   "source": [
    "df3.to_csv(\"players_after_merge.csv\", index=False) "
   ]
  },
  {
   "cell_type": "code",
   "execution_count": null,
   "metadata": {},
   "outputs": [],
   "source": []
  }
 ],
 "metadata": {
  "kernelspec": {
   "display_name": "Python 3 (ipykernel)",
   "language": "python",
   "name": "python3"
  },
  "language_info": {
   "codemirror_mode": {
    "name": "ipython",
    "version": 3
   },
   "file_extension": ".py",
   "mimetype": "text/x-python",
   "name": "python",
   "nbconvert_exporter": "python",
   "pygments_lexer": "ipython3",
   "version": "3.7.3"
  }
 },
 "nbformat": 4,
 "nbformat_minor": 4
}
